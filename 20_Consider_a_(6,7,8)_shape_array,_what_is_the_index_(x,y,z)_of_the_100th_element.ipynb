{
  "nbformat": 4,
  "nbformat_minor": 0,
  "metadata": {
    "colab": {
      "name": "20_Consider a (6,7,8) shape array, what is the index (x,y,z) of the 100th element.ipynb",
      "provenance": [],
      "authorship_tag": "ABX9TyMga6vIfdxNFBpJ4M2GPNK1",
      "include_colab_link": true
    },
    "kernelspec": {
      "name": "python3",
      "display_name": "Python 3"
    },
    "language_info": {
      "name": "python"
    }
  },
  "cells": [
    {
      "cell_type": "markdown",
      "metadata": {
        "id": "view-in-github",
        "colab_type": "text"
      },
      "source": [
        "<a href=\"https://colab.research.google.com/github/wrixd/numpy_exercise/blob/main/20_Consider_a_(6%2C7%2C8)_shape_array%2C_what_is_the_index_(x%2Cy%2Cz)_of_the_100th_element.ipynb\" target=\"_parent\"><img src=\"https://colab.research.google.com/assets/colab-badge.svg\" alt=\"Open In Colab\"/></a>"
      ]
    },
    {
      "cell_type": "code",
      "metadata": {
        "id": "6CKg5S1NtzGP"
      },
      "source": [
        "import numpy as np\n"
      ],
      "execution_count": 30,
      "outputs": []
    },
    {
      "cell_type": "code",
      "metadata": {
        "id": "FjapKAbjt5uK"
      },
      "source": [
        "a=np.ones((6,7,8))"
      ],
      "execution_count": 31,
      "outputs": []
    },
    {
      "cell_type": "code",
      "metadata": {
        "id": "ivQkjJMluPUd"
      },
      "source": [
        "m=0\n",
        "for i in range(6):\n",
        "  for j in range (7):\n",
        "    for k in range(8):\n",
        "      \n",
        "      if(m==100):\n",
        "       break\n",
        "      m=m+1 \n",
        "       "
      ],
      "execution_count": 34,
      "outputs": []
    },
    {
      "cell_type": "code",
      "metadata": {
        "colab": {
          "base_uri": "https://localhost:8080/"
        },
        "id": "fdMz-u7avH2c",
        "outputId": "a5857e6a-f0d5-46bc-9dbc-5db0147257f2"
      },
      "source": [
        "print(i,j,k)"
      ],
      "execution_count": 36,
      "outputs": [
        {
          "output_type": "stream",
          "name": "stdout",
          "text": [
            "5 6 0\n"
          ]
        }
      ]
    },
    {
      "cell_type": "code",
      "metadata": {
        "id": "47w2DKK7vNhN"
      },
      "source": [
        ""
      ],
      "execution_count": 33,
      "outputs": []
    }
  ]
}