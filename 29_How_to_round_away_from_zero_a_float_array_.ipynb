{
  "nbformat": 4,
  "nbformat_minor": 0,
  "metadata": {
    "colab": {
      "name": "29. How to round away from zero a float array .ipynb",
      "provenance": [],
      "authorship_tag": "ABX9TyPxjCpIkdvRrjZ8MaoNSX+i",
      "include_colab_link": true
    },
    "kernelspec": {
      "name": "python3",
      "display_name": "Python 3"
    },
    "language_info": {
      "name": "python"
    }
  },
  "cells": [
    {
      "cell_type": "markdown",
      "metadata": {
        "id": "view-in-github",
        "colab_type": "text"
      },
      "source": [
        "<a href=\"https://colab.research.google.com/github/wrixd/numpy_exercise/blob/main/29_How_to_round_away_from_zero_a_float_array_.ipynb\" target=\"_parent\"><img src=\"https://colab.research.google.com/assets/colab-badge.svg\" alt=\"Open In Colab\"/></a>"
      ]
    },
    {
      "cell_type": "code",
      "metadata": {
        "id": "uPMz8bNYDh0w"
      },
      "source": [
        "import numpy as np"
      ],
      "execution_count": 7,
      "outputs": []
    },
    {
      "cell_type": "code",
      "metadata": {
        "colab": {
          "base_uri": "https://localhost:8080/"
        },
        "id": "qY94yklRGgYY",
        "outputId": "24b58ddc-a8cd-42ae-c723-fc9f40c659e9"
      },
      "source": [
        "Z = np.random.uniform(-10,+10,10)\n",
        "print(Z)"
      ],
      "execution_count": 8,
      "outputs": [
        {
          "output_type": "stream",
          "name": "stdout",
          "text": [
            "[ 7.04859959 -6.94265704 -2.68058553  2.08070376 -5.30853037  6.7477156\n",
            "  8.09654204 -4.74316324  5.98144436  2.97061207]\n"
          ]
        }
      ]
    },
    {
      "cell_type": "code",
      "metadata": {
        "colab": {
          "base_uri": "https://localhost:8080/"
        },
        "id": "KF2GMK3KGllc",
        "outputId": "ec31a94d-9b61-4626-f605-2670441db2e5"
      },
      "source": [
        "print(np.copysign(np.ceil(np.abs(Z)), Z))"
      ],
      "execution_count": 9,
      "outputs": [
        {
          "output_type": "stream",
          "name": "stdout",
          "text": [
            "[ 8. -7. -3.  3. -6.  7.  9. -5.  6.  3.]\n"
          ]
        }
      ]
    },
    {
      "cell_type": "code",
      "metadata": {
        "id": "BpFqqkkYGtB-"
      },
      "source": [
        ""
      ],
      "execution_count": 9,
      "outputs": []
    }
  ]
}