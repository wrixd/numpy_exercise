{
  "nbformat": 4,
  "nbformat_minor": 0,
  "metadata": {
    "colab": {
      "name": "13. Create a 10x10 array with random values and find the minimum and maximum values.ipynb",
      "provenance": [],
      "authorship_tag": "ABX9TyPlK4AbZ3T5v7sVsat+t9s+",
      "include_colab_link": true
    },
    "kernelspec": {
      "name": "python3",
      "display_name": "Python 3"
    },
    "language_info": {
      "name": "python"
    }
  },
  "cells": [
    {
      "cell_type": "markdown",
      "metadata": {
        "id": "view-in-github",
        "colab_type": "text"
      },
      "source": [
        "<a href=\"https://colab.research.google.com/github/wrixd/numpy_exercise/blob/main/13_Create_a_10x10_array_with_random_values_and_find_the_minimum_and_maximum_values.ipynb\" target=\"_parent\"><img src=\"https://colab.research.google.com/assets/colab-badge.svg\" alt=\"Open In Colab\"/></a>"
      ]
    },
    {
      "cell_type": "code",
      "metadata": {
        "id": "8_jR8AwtQ_O4"
      },
      "source": [
        "import numpy as np"
      ],
      "execution_count": 15,
      "outputs": []
    },
    {
      "cell_type": "code",
      "metadata": {
        "id": "-tznm4AYRD6Q"
      },
      "source": [
        "a= np.random.rand(10,10)"
      ],
      "execution_count": 16,
      "outputs": []
    },
    {
      "cell_type": "code",
      "metadata": {
        "colab": {
          "base_uri": "https://localhost:8080/"
        },
        "id": "2b-DjPfeRNqE",
        "outputId": "0afdcb8b-b2ce-4ec6-bcfb-cedac805c8b5"
      },
      "source": [
        "print (a)"
      ],
      "execution_count": 17,
      "outputs": [
        {
          "output_type": "stream",
          "name": "stdout",
          "text": [
            "[[0.29195095 0.69644468 0.60369511 0.12185471 0.57617349 0.34456767\n",
            "  0.48233816 0.48318298 0.60430742 0.50300268]\n",
            " [0.45735288 0.08028962 0.42301393 0.53220363 0.95603688 0.09694469\n",
            "  0.08856603 0.24512457 0.34428693 0.16818878]\n",
            " [0.32177383 0.09290802 0.38657354 0.77218238 0.14400829 0.74763978\n",
            "  0.27020796 0.40763782 0.34683458 0.02926125]\n",
            " [0.50612    0.16364092 0.29998171 0.86289555 0.07889863 0.60038462\n",
            "  0.79438874 0.47106671 0.36025639 0.0684993 ]\n",
            " [0.85726034 0.05068614 0.03583258 0.09151189 0.48448513 0.9025592\n",
            "  0.47510623 0.47020847 0.34972847 0.71196074]\n",
            " [0.35688272 0.99866198 0.0698128  0.32545613 0.83152921 0.54562592\n",
            "  0.35445765 0.82208552 0.63895522 0.40696293]\n",
            " [0.52974026 0.80379287 0.43368489 0.61097212 0.6152555  0.40192841\n",
            "  0.0460243  0.81884466 0.85644724 0.9541756 ]\n",
            " [0.31828876 0.52500255 0.06985575 0.54233468 0.34429763 0.02335744\n",
            "  0.99182865 0.34123638 0.11708116 0.22930437]\n",
            " [0.00553578 0.19651091 0.07692519 0.43339431 0.77258121 0.63287611\n",
            "  0.97895186 0.69252992 0.31430943 0.66107835]\n",
            " [0.37017172 0.75134124 0.60032807 0.10677502 0.7863081  0.83361011\n",
            "  0.10655646 0.64311438 0.69861904 0.88965097]]\n"
          ]
        }
      ]
    },
    {
      "cell_type": "code",
      "metadata": {
        "colab": {
          "base_uri": "https://localhost:8080/"
        },
        "id": "RFHWu1BiRloU",
        "outputId": "89e7be64-f1cb-4be6-a466-2acda038e6a0"
      },
      "source": [
        "np.min(a)"
      ],
      "execution_count": 18,
      "outputs": [
        {
          "output_type": "execute_result",
          "data": {
            "text/plain": [
              "0.005535778622184795"
            ]
          },
          "metadata": {},
          "execution_count": 18
        }
      ]
    },
    {
      "cell_type": "code",
      "metadata": {
        "colab": {
          "base_uri": "https://localhost:8080/"
        },
        "id": "XB91XjsQRojg",
        "outputId": "9d28b6be-da39-4b7d-e9cd-40ae42359885"
      },
      "source": [
        "np.max(a)"
      ],
      "execution_count": 19,
      "outputs": [
        {
          "output_type": "execute_result",
          "data": {
            "text/plain": [
              "0.9986619763201566"
            ]
          },
          "metadata": {},
          "execution_count": 19
        }
      ]
    },
    {
      "cell_type": "code",
      "metadata": {
        "id": "5fJnI4OoRvuY"
      },
      "source": [
        ""
      ],
      "execution_count": 19,
      "outputs": []
    }
  ]
}