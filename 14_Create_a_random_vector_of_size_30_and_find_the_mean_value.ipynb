{
  "nbformat": 4,
  "nbformat_minor": 0,
  "metadata": {
    "colab": {
      "name": "14. Create a random vector of size 30 and find the mean value.ipynb",
      "provenance": [],
      "authorship_tag": "ABX9TyOMTzTBYhO8JP3bupAcGdbZ",
      "include_colab_link": true
    },
    "kernelspec": {
      "name": "python3",
      "display_name": "Python 3"
    },
    "language_info": {
      "name": "python"
    }
  },
  "cells": [
    {
      "cell_type": "markdown",
      "metadata": {
        "id": "view-in-github",
        "colab_type": "text"
      },
      "source": [
        "<a href=\"https://colab.research.google.com/github/wrixd/numpy_exercise/blob/main/14_Create_a_random_vector_of_size_30_and_find_the_mean_value.ipynb\" target=\"_parent\"><img src=\"https://colab.research.google.com/assets/colab-badge.svg\" alt=\"Open In Colab\"/></a>"
      ]
    },
    {
      "cell_type": "code",
      "metadata": {
        "id": "UcKfDFeKR8FE"
      },
      "source": [
        "import numpy as np"
      ],
      "execution_count": 1,
      "outputs": []
    },
    {
      "cell_type": "code",
      "metadata": {
        "colab": {
          "base_uri": "https://localhost:8080/"
        },
        "id": "vBtZcL1UR_Or",
        "outputId": "907dc93e-91c0-4bd5-8320-fbf0762f1a1d"
      },
      "source": [
        "a= np.random.randint(0,100,size=(30))\n",
        "print(a)"
      ],
      "execution_count": 10,
      "outputs": [
        {
          "output_type": "stream",
          "name": "stdout",
          "text": [
            "[92 27 34 26 34 13 12 69 69 75 43 81 26 88 67 65 47 33 49 75 62 97 69 78\n",
            " 37  6 84 79 29 35]\n"
          ]
        }
      ]
    },
    {
      "cell_type": "code",
      "metadata": {
        "colab": {
          "base_uri": "https://localhost:8080/"
        },
        "id": "nIqBOM_6SkZQ",
        "outputId": "1a66728e-f220-46e3-8852-c01998d54556"
      },
      "source": [
        "np.mean(a)"
      ],
      "execution_count": 11,
      "outputs": [
        {
          "output_type": "execute_result",
          "data": {
            "text/plain": [
              "53.36666666666667"
            ]
          },
          "metadata": {},
          "execution_count": 11
        }
      ]
    },
    {
      "cell_type": "code",
      "metadata": {
        "id": "1Z7k57CGSpz7"
      },
      "source": [
        "|"
      ],
      "execution_count": null,
      "outputs": []
    }
  ]
}