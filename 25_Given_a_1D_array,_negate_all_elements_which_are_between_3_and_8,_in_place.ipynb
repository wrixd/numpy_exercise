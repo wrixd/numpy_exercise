{
  "nbformat": 4,
  "nbformat_minor": 0,
  "metadata": {
    "colab": {
      "name": "25. Given a 1D array, negate all elements which are between 3 and 8, in place.ipynb",
      "provenance": [],
      "authorship_tag": "ABX9TyPXapNGOnqsJcIp1eaqDijv",
      "include_colab_link": true
    },
    "kernelspec": {
      "name": "python3",
      "display_name": "Python 3"
    },
    "language_info": {
      "name": "python"
    }
  },
  "cells": [
    {
      "cell_type": "markdown",
      "metadata": {
        "id": "view-in-github",
        "colab_type": "text"
      },
      "source": [
        "<a href=\"https://colab.research.google.com/github/wrixd/numpy_exercise/blob/main/25_Given_a_1D_array%2C_negate_all_elements_which_are_between_3_and_8%2C_in_place.ipynb\" target=\"_parent\"><img src=\"https://colab.research.google.com/assets/colab-badge.svg\" alt=\"Open In Colab\"/></a>"
      ]
    },
    {
      "cell_type": "code",
      "metadata": {
        "id": "LkyMCMkKAR30"
      },
      "source": [
        "import numpy as np"
      ],
      "execution_count": 8,
      "outputs": []
    },
    {
      "cell_type": "code",
      "metadata": {
        "colab": {
          "base_uri": "https://localhost:8080/"
        },
        "id": "rTmAO6YwAWO8",
        "outputId": "5f670ab4-a465-4c1d-cd56-3e8d3d4c49f7"
      },
      "source": [
        "a= np.random.randint(1,10,size=(20,))\n",
        "print(a)"
      ],
      "execution_count": 9,
      "outputs": [
        {
          "output_type": "stream",
          "name": "stdout",
          "text": [
            "[2 2 9 5 3 7 6 6 4 3 8 5 2 6 8 5 3 8 3 6]\n"
          ]
        }
      ]
    },
    {
      "cell_type": "code",
      "metadata": {
        "id": "yD-AwmA8A83u"
      },
      "source": [
        "for i in range(20):\n",
        "  if (3<a[i])&(a[i]<8) :\n",
        "    a[i]*=-1"
      ],
      "execution_count": 10,
      "outputs": []
    },
    {
      "cell_type": "code",
      "metadata": {
        "colab": {
          "base_uri": "https://localhost:8080/"
        },
        "id": "SJkjlAKzB2Kq",
        "outputId": "6d98ae33-b040-4205-9db7-75be31a4becc"
      },
      "source": [
        "print (a)"
      ],
      "execution_count": 11,
      "outputs": [
        {
          "output_type": "stream",
          "name": "stdout",
          "text": [
            "[ 2  2  9 -5  3 -7 -6 -6 -4  3  8 -5  2 -6  8 -5  3  8  3 -6]\n"
          ]
        }
      ]
    }
  ]
}