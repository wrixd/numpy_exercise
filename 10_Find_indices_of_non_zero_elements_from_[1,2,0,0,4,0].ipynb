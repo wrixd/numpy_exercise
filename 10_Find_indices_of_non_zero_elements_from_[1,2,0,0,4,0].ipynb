{
  "nbformat": 4,
  "nbformat_minor": 0,
  "metadata": {
    "colab": {
      "name": "10. Find indices of non-zero elements from [1,2,0,0,4,0].ipynb",
      "provenance": [],
      "authorship_tag": "ABX9TyPUMvnsEAxpOsMkBzEFAwAm",
      "include_colab_link": true
    },
    "kernelspec": {
      "name": "python3",
      "display_name": "Python 3"
    },
    "language_info": {
      "name": "python"
    }
  },
  "cells": [
    {
      "cell_type": "markdown",
      "metadata": {
        "id": "view-in-github",
        "colab_type": "text"
      },
      "source": [
        "<a href=\"https://colab.research.google.com/github/wrixd/numpy_exercise/blob/main/10_Find_indices_of_non_zero_elements_from_%5B1%2C2%2C0%2C0%2C4%2C0%5D.ipynb\" target=\"_parent\"><img src=\"https://colab.research.google.com/assets/colab-badge.svg\" alt=\"Open In Colab\"/></a>"
      ]
    },
    {
      "cell_type": "code",
      "metadata": {
        "id": "0OOWXB90O9eq"
      },
      "source": [
        "import numpy as np"
      ],
      "execution_count": 1,
      "outputs": []
    },
    {
      "cell_type": "code",
      "metadata": {
        "id": "VO_0VTBlPDqu"
      },
      "source": [
        "a= np.array([1,2,0,0,4,0])"
      ],
      "execution_count": 3,
      "outputs": []
    },
    {
      "cell_type": "code",
      "metadata": {
        "colab": {
          "base_uri": "https://localhost:8080/"
        },
        "id": "MiFG7BmkPJ1g",
        "outputId": "427db836-5fbd-4288-e382-f6427becb71d"
      },
      "source": [
        "for i in range(6) :\n",
        " if a[i]!=0 : \n",
        "    print(i)\n",
        "    \n",
        "    "
      ],
      "execution_count": 9,
      "outputs": [
        {
          "output_type": "stream",
          "name": "stdout",
          "text": [
            "0\n",
            "1\n",
            "4\n"
          ]
        }
      ]
    }
  ]
}