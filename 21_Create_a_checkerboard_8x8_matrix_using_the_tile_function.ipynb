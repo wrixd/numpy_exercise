{
  "nbformat": 4,
  "nbformat_minor": 0,
  "metadata": {
    "colab": {
      "name": "21. Create a checkerboard 8x8 matrix using the tile function.ipynb",
      "provenance": [],
      "authorship_tag": "ABX9TyOrWRwD1fhAZ6k4xksBX9xw",
      "include_colab_link": true
    },
    "kernelspec": {
      "name": "python3",
      "display_name": "Python 3"
    },
    "language_info": {
      "name": "python"
    }
  },
  "cells": [
    {
      "cell_type": "markdown",
      "metadata": {
        "id": "view-in-github",
        "colab_type": "text"
      },
      "source": [
        "<a href=\"https://colab.research.google.com/github/wrixd/numpy_exercise/blob/main/21_Create_a_checkerboard_8x8_matrix_using_the_tile_function.ipynb\" target=\"_parent\"><img src=\"https://colab.research.google.com/assets/colab-badge.svg\" alt=\"Open In Colab\"/></a>"
      ]
    },
    {
      "cell_type": "code",
      "metadata": {
        "id": "ea1UA8xXxozq"
      },
      "source": [
        "import numpy as np"
      ],
      "execution_count": 11,
      "outputs": []
    },
    {
      "cell_type": "code",
      "metadata": {
        "colab": {
          "base_uri": "https://localhost:8080/"
        },
        "id": "F9IoHJfMxwIO",
        "outputId": "a860dad5-a689-4632-b15b-f2bf7919edf6"
      },
      "source": [
        "A = np.array([[[[[[[[0,1],[0,1],[0,1],[0,1],[0,1],[0,1],[0,1],[0,1]]]]]]]])\n",
        "x = np.tile(A,reps=4)\n",
        "print(x)"
      ],
      "execution_count": 19,
      "outputs": [
        {
          "output_type": "stream",
          "name": "stdout",
          "text": [
            "[[[[[[[[0 1 0 1 0 1 0 1]\n",
            "       [0 1 0 1 0 1 0 1]\n",
            "       [0 1 0 1 0 1 0 1]\n",
            "       [0 1 0 1 0 1 0 1]\n",
            "       [0 1 0 1 0 1 0 1]\n",
            "       [0 1 0 1 0 1 0 1]\n",
            "       [0 1 0 1 0 1 0 1]\n",
            "       [0 1 0 1 0 1 0 1]]]]]]]]\n"
          ]
        }
      ]
    },
    {
      "cell_type": "code",
      "metadata": {
        "id": "hLm4_pmBzYt0"
      },
      "source": [
        ""
      ],
      "execution_count": 12,
      "outputs": []
    }
  ]
}