{
  "nbformat": 4,
  "nbformat_minor": 0,
  "metadata": {
    "colab": {
      "name": "16. How to add a border (filled with 0's) around an existing array.ipynb",
      "provenance": [],
      "authorship_tag": "ABX9TyMRAhi3axl6PwM9ryrWwUCp",
      "include_colab_link": true
    },
    "kernelspec": {
      "name": "python3",
      "display_name": "Python 3"
    },
    "language_info": {
      "name": "python"
    }
  },
  "cells": [
    {
      "cell_type": "markdown",
      "metadata": {
        "id": "view-in-github",
        "colab_type": "text"
      },
      "source": [
        "<a href=\"https://colab.research.google.com/github/wrixd/numpy_exercise/blob/main/16_How_to_add_a_border_(filled_with_0's)_around_an_existing_array.ipynb\" target=\"_parent\"><img src=\"https://colab.research.google.com/assets/colab-badge.svg\" alt=\"Open In Colab\"/></a>"
      ]
    },
    {
      "cell_type": "code",
      "metadata": {
        "id": "9G71E-fwdyck"
      },
      "source": [
        "import numpy as np"
      ],
      "execution_count": 63,
      "outputs": []
    },
    {
      "cell_type": "code",
      "metadata": {
        "id": "V75hflsFd5tJ"
      },
      "source": [
        "a= np.random.randint(1,200,size=(6,6),dtype='int32')"
      ],
      "execution_count": 64,
      "outputs": []
    },
    {
      "cell_type": "code",
      "metadata": {
        "colab": {
          "base_uri": "https://localhost:8080/"
        },
        "id": "AigDKlvgebPH",
        "outputId": "3b4d60ce-9ad6-4389-bbdc-5fe4ac677623"
      },
      "source": [
        "print(a)"
      ],
      "execution_count": 65,
      "outputs": [
        {
          "output_type": "stream",
          "name": "stdout",
          "text": [
            "[[199  54  58  54 126 146]\n",
            " [193 189 190 143 116 131]\n",
            " [  6 104  32  20  53 129]\n",
            " [178 189 104  93  22 128]\n",
            " [115 148 164 100  15  25]\n",
            " [ 54 120  92  11  38 150]]\n"
          ]
        }
      ]
    },
    {
      "cell_type": "code",
      "metadata": {
        "id": "LUSJ51D_ehiA"
      },
      "source": [
        "b=np.zeros((4,4))"
      ],
      "execution_count": 66,
      "outputs": []
    },
    {
      "cell_type": "code",
      "metadata": {
        "id": "7588dQxgezdK"
      },
      "source": [
        "a[:,0]= 0; a[0,:]=0;a[-1,:]=0;a[:,-1]=0"
      ],
      "execution_count": 67,
      "outputs": []
    },
    {
      "cell_type": "code",
      "metadata": {
        "colab": {
          "base_uri": "https://localhost:8080/"
        },
        "id": "5s-JaTJffJMD",
        "outputId": "df30f7fb-a910-437d-c2f0-f61a5cc0d1d7"
      },
      "source": [
        "print(a)"
      ],
      "execution_count": 68,
      "outputs": [
        {
          "output_type": "stream",
          "name": "stdout",
          "text": [
            "[[  0   0   0   0   0   0]\n",
            " [  0 189 190 143 116   0]\n",
            " [  0 104  32  20  53   0]\n",
            " [  0 189 104  93  22   0]\n",
            " [  0 148 164 100  15   0]\n",
            " [  0   0   0   0   0   0]]\n"
          ]
        }
      ]
    },
    {
      "cell_type": "code",
      "metadata": {
        "id": "gy8JDiZofKWM"
      },
      "source": [
        ""
      ],
      "execution_count": 68,
      "outputs": []
    }
  ]
}