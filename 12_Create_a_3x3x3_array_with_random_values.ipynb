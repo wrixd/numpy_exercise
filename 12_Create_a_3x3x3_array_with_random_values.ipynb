{
  "nbformat": 4,
  "nbformat_minor": 0,
  "metadata": {
    "colab": {
      "name": "12_Create a 3x3x3 array with random values.ipynb",
      "provenance": [],
      "authorship_tag": "ABX9TyOtqQGwEUF19JfIMrNPiC5Z",
      "include_colab_link": true
    },
    "kernelspec": {
      "name": "python3",
      "display_name": "Python 3"
    },
    "language_info": {
      "name": "python"
    }
  },
  "cells": [
    {
      "cell_type": "markdown",
      "metadata": {
        "id": "view-in-github",
        "colab_type": "text"
      },
      "source": [
        "<a href=\"https://colab.research.google.com/github/wrixd/numpy_exercise/blob/main/12_Create_a_3x3x3_array_with_random_values.ipynb\" target=\"_parent\"><img src=\"https://colab.research.google.com/assets/colab-badge.svg\" alt=\"Open In Colab\"/></a>"
      ]
    },
    {
      "cell_type": "code",
      "metadata": {
        "id": "0Xn1wDQaQgKh"
      },
      "source": [
        "import numpy as np"
      ],
      "execution_count": 4,
      "outputs": []
    },
    {
      "cell_type": "code",
      "metadata": {
        "colab": {
          "base_uri": "https://localhost:8080/"
        },
        "id": "hVUchOmWQmwy",
        "outputId": "7cbd88c6-fdb8-43c9-9c79-ad551dcb03cf"
      },
      "source": [
        "np.random.randint(0,100,size=(3,3,3))"
      ],
      "execution_count": 5,
      "outputs": [
        {
          "output_type": "execute_result",
          "data": {
            "text/plain": [
              "array([[[86, 75,  9],\n",
              "        [25, 94, 82],\n",
              "        [64, 98, 11]],\n",
              "\n",
              "       [[ 9, 67, 75],\n",
              "        [60, 99,  4],\n",
              "        [ 9,  2, 43]],\n",
              "\n",
              "       [[74, 34, 81],\n",
              "        [53, 21, 74],\n",
              "        [31, 28, 16]]])"
            ]
          },
          "metadata": {},
          "execution_count": 5
        }
      ]
    },
    {
      "cell_type": "code",
      "metadata": {
        "id": "nc6cD5itQvEz"
      },
      "source": [
        ""
      ],
      "execution_count": 5,
      "outputs": []
    }
  ]
}