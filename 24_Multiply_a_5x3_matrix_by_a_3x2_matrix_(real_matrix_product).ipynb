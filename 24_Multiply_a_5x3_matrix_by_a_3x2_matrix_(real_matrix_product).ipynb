{
  "nbformat": 4,
  "nbformat_minor": 0,
  "metadata": {
    "colab": {
      "name": "24. Multiply a 5x3 matrix by a 3x2 matrix (real matrix product).ipynb",
      "provenance": [],
      "authorship_tag": "ABX9TyM1sw7U2Ue693qIBAsn0d5k",
      "include_colab_link": true
    },
    "kernelspec": {
      "name": "python3",
      "display_name": "Python 3"
    },
    "language_info": {
      "name": "python"
    }
  },
  "cells": [
    {
      "cell_type": "markdown",
      "metadata": {
        "id": "view-in-github",
        "colab_type": "text"
      },
      "source": [
        "<a href=\"https://colab.research.google.com/github/wrixd/numpy_exercise/blob/main/24_Multiply_a_5x3_matrix_by_a_3x2_matrix_(real_matrix_product).ipynb\" target=\"_parent\"><img src=\"https://colab.research.google.com/assets/colab-badge.svg\" alt=\"Open In Colab\"/></a>"
      ]
    },
    {
      "cell_type": "code",
      "metadata": {
        "id": "CQiPRbml_SXz"
      },
      "source": [
        "import numpy as np"
      ],
      "execution_count": 7,
      "outputs": []
    },
    {
      "cell_type": "code",
      "metadata": {
        "colab": {
          "base_uri": "https://localhost:8080/"
        },
        "id": "cm2yL3Wd_Xox",
        "outputId": "f5a05667-c129-4dd7-b5da-7e9f81fa5363"
      },
      "source": [
        "a=np.random.rand(5,3);b=np.random.rand(3,2);print(a);print(b)"
      ],
      "execution_count": 8,
      "outputs": [
        {
          "output_type": "stream",
          "name": "stdout",
          "text": [
            "[[0.39939752 0.38741353 0.97273298]\n",
            " [0.71103411 0.61552016 0.31944069]\n",
            " [0.43991068 0.16738108 0.15642765]\n",
            " [0.27306342 0.34022515 0.46971826]\n",
            " [0.81180586 0.93127037 0.17399427]]\n",
            "[[0.97993571 0.29198048]\n",
            " [0.9294327  0.69850705]\n",
            " [0.84035433 0.27232899]]\n"
          ]
        }
      ]
    },
    {
      "cell_type": "code",
      "metadata": {
        "colab": {
          "base_uri": "https://localhost:8080/"
        },
        "id": "7E2cGkC5_55q",
        "outputId": "85481e07-a3a5-4b76-c433-d25e11d2183a"
      },
      "source": [
        "np.matmul(a,b)"
      ],
      "execution_count": 9,
      "outputs": [
        {
          "output_type": "execute_result",
          "data": {
            "text/plain": [
              "array([[1.56889908, 0.65213076],\n",
              "       [1.53729565, 0.72454621],\n",
              "       [0.71810829, 0.28796198],\n",
              "       [0.97853075, 0.44529675],\n",
              "       [1.80728753, 0.93491407]])"
            ]
          },
          "metadata": {},
          "execution_count": 9
        }
      ]
    },
    {
      "cell_type": "code",
      "metadata": {
        "id": "TMHUIoF3AB_b"
      },
      "source": [
        ""
      ],
      "execution_count": 9,
      "outputs": []
    }
  ]
}