{
  "nbformat": 4,
  "nbformat_minor": 0,
  "metadata": {
    "colab": {
      "name": "22. Normalize a 5x5 random matrix.ipynb",
      "provenance": [],
      "authorship_tag": "ABX9TyPkincbh1/dXnhizl1TYuIm",
      "include_colab_link": true
    },
    "kernelspec": {
      "name": "python3",
      "display_name": "Python 3"
    },
    "language_info": {
      "name": "python"
    }
  },
  "cells": [
    {
      "cell_type": "markdown",
      "metadata": {
        "id": "view-in-github",
        "colab_type": "text"
      },
      "source": [
        "<a href=\"https://colab.research.google.com/github/wrixd/numpy_exercise/blob/main/22_Normalize_a_5x5_random_matrix.ipynb\" target=\"_parent\"><img src=\"https://colab.research.google.com/assets/colab-badge.svg\" alt=\"Open In Colab\"/></a>"
      ]
    },
    {
      "cell_type": "code",
      "metadata": {
        "id": "rH4BYlRB2Ha7"
      },
      "source": [
        "import numpy as np"
      ],
      "execution_count": 22,
      "outputs": []
    },
    {
      "cell_type": "code",
      "metadata": {
        "id": "5UR11k922R23"
      },
      "source": [
        "a = np.random.rand(5,5)"
      ],
      "execution_count": 23,
      "outputs": []
    },
    {
      "cell_type": "code",
      "metadata": {
        "colab": {
          "base_uri": "https://localhost:8080/"
        },
        "id": "IbQwYUg25Ptw",
        "outputId": "8a746a57-2652-4e8d-a137-91832e78ad37"
      },
      "source": [
        "print(a)"
      ],
      "execution_count": 24,
      "outputs": [
        {
          "output_type": "stream",
          "name": "stdout",
          "text": [
            "[[0.67914701 0.22007293 0.41831774 0.7339277  0.10984624]\n",
            " [0.8116162  0.24208604 0.22205136 0.78271616 0.57370353]\n",
            " [0.62074681 0.64642937 0.69243334 0.22934186 0.65319219]\n",
            " [0.19460691 0.28474498 0.70516714 0.89625424 0.62790941]\n",
            " [0.94095312 0.87482933 0.01463558 0.04408162 0.16663285]]\n"
          ]
        }
      ]
    },
    {
      "cell_type": "code",
      "metadata": {
        "id": "VD1wbNXj3AND"
      },
      "source": [
        "min=np.min(a);max=np.max(a)"
      ],
      "execution_count": 25,
      "outputs": []
    },
    {
      "cell_type": "code",
      "metadata": {
        "id": "V9_DeTlx45fu"
      },
      "source": [
        "a=(a-min)/(max-min)"
      ],
      "execution_count": 26,
      "outputs": []
    },
    {
      "cell_type": "code",
      "metadata": {
        "colab": {
          "base_uri": "https://localhost:8080/"
        },
        "id": "qtz8ZJ0M5NnR",
        "outputId": "012b7355-6b3e-4b3b-82dd-f74a3b48f9fe"
      },
      "source": [
        "print(a)"
      ],
      "execution_count": 27,
      "outputs": [
        {
          "output_type": "stream",
          "name": "stdout",
          "text": [
            "[[0.71736894 0.22177854 0.43579241 0.77650707 0.10278403]\n",
            " [0.86037518 0.24554264 0.22391434 0.82917633 0.60353812]\n",
            " [0.65432338 0.68204882 0.73171211 0.23178475 0.68934958]\n",
            " [0.19428686 0.29159483 0.74545879 0.95174562 0.66205572]\n",
            " [1.         0.92861649 0.         0.03178828 0.16408765]]\n"
          ]
        }
      ]
    }
  ]
}